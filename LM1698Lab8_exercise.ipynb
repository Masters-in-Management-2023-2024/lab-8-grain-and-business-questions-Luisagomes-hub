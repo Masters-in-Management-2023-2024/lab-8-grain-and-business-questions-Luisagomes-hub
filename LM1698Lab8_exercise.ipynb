{
  "cells": [
    {
      "cell_type": "markdown",
      "metadata": {
        "id": "f_t4Z9HCdVUZ"
      },
      "source": [
        "# Diamond Company Analytics Challenge\n",
        "\n",
        "**Time:** 35 minutes\n",
        "\n",
        "**Scenario:** You are the new data analyst at a prestigious diamond company. The CEO has called an urgent meeting and needs answers to critical business questions about the inventory.\n",
        "\n",
        "**Your Mission:** Analyze the diamond inventory data and provide insights to guide strategic decisions."
      ]
    },
    {
      "cell_type": "code",
      "execution_count": 3,
      "metadata": {
        "id": "N87F7L0YdVUa",
        "outputId": "d3b971f2-9b52-4ca0-9f9b-6c22e2b93cf9",
        "colab": {
          "base_uri": "https://localhost:8080/"
        }
      },
      "outputs": [
        {
          "output_type": "stream",
          "name": "stdout",
          "text": [
            "Loading diamonds dataset...\n",
            "Dataset loaded successfully!\n"
          ]
        }
      ],
      "source": [
        "import polars as pl\n",
        "\n",
        "# Load the diamonds dataset\n",
        "print(\"Loading diamonds dataset...\")\n",
        "df = pl.read_csv('https://raw.githubusercontent.com/pycaret/pycaret/master/datasets/diamond.csv')\n",
        "print(\"Dataset loaded successfully!\")"
      ]
    },
    {
      "cell_type": "markdown",
      "metadata": {
        "id": "nY4oum8pdVUa"
      },
      "source": [
        "## Section 1: Initial Inventory Assessment (5 minutes)\n",
        "\n",
        "The CEO walks in: \"Before we dive into specifics, I need to understand what we're working with. Give me the basics about our inventory database.\""
      ]
    },
    {
      "cell_type": "markdown",
      "metadata": {
        "id": "okqgEzhFdVUa"
      },
      "source": [
        "### Question 1: \"How extensive is our inventory database?\"\n",
        "\n",
        "The CEO needs to know the scale of data you're analyzing."
      ]
    },
    {
      "cell_type": "code",
      "execution_count": 4,
      "metadata": {
        "id": "CcHbO3YIdVUb",
        "colab": {
          "base_uri": "https://localhost:8080/"
        },
        "outputId": "19b847ef-166f-467a-f483-998289a93c2f"
      },
      "outputs": [
        {
          "output_type": "stream",
          "name": "stdout",
          "text": [
            "=== Inventory Overview ===\n",
            "Total records (rows): 6,000\n",
            "Total attributes (columns): 8\n"
          ]
        }
      ],
      "source": [
        "# Your code here:\n",
        "rows, cols = df.shape\n",
        "\n",
        "print(\"=== Inventory Overview ===\")\n",
        "print(f\"Total records (rows): {rows:,}\")\n",
        "print(f\"Total attributes (columns): {cols}\")\n"
      ]
    },
    {
      "cell_type": "markdown",
      "metadata": {
        "id": "hXZOCqEldVUb"
      },
      "source": [
        "### Question 2: \"What information do we track about each diamond?\"\n",
        "\n",
        "List all the characteristics we record."
      ]
    },
    {
      "cell_type": "code",
      "execution_count": 5,
      "metadata": {
        "id": "RBwW43yddVUb",
        "colab": {
          "base_uri": "https://localhost:8080/"
        },
        "outputId": "f8b96cca-43ab-4b40-c418-3a7b9c4a70be"
      },
      "outputs": [
        {
          "output_type": "stream",
          "name": "stdout",
          "text": [
            "=== Diamond Characteristics Tracked ===\n",
            "- Carat Weight\n",
            "- Cut\n",
            "- Color\n",
            "- Clarity\n",
            "- Polish\n",
            "- Symmetry\n",
            "- Report\n",
            "- Price\n"
          ]
        }
      ],
      "source": [
        "# Your code here:\n",
        "print(\"=== Diamond Characteristics Tracked ===\")\n",
        "for col in df.columns:\n",
        "    print(f\"- {col}\")"
      ]
    },
    {
      "cell_type": "markdown",
      "metadata": {
        "id": "1t3hKALadVUb"
      },
      "source": [
        "### Question 3: \"When I look at one line in this database, what am I looking at?\"\n",
        "\n",
        "Explain in business terms:"
      ]
    },
    {
      "cell_type": "markdown",
      "metadata": {
        "id": "U9Zs5u_ydVUb"
      },
      "source": [
        "**Your answer:** Each row represents:"
      ]
    },
    {
      "cell_type": "markdown",
      "source": [
        "Each row represents a single diamond in the company’s inventory, including its physical characteristics (carat, cut, color, clarity, dimensions) and its market value (price)."
      ],
      "metadata": {
        "id": "wBWaK0F1eSqg"
      }
    },
    {
      "cell_type": "markdown",
      "metadata": {
        "id": "FTYlRxExdVUb"
      },
      "source": [
        "## Section 2: Strategic Business Questions (20 minutes)\n",
        "\n",
        "The CEO continues: \"Now let's get to the important questions. Our board meeting is tomorrow and I need concrete numbers.\""
      ]
    },
    {
      "cell_type": "markdown",
      "metadata": {
        "id": "6VhygaibdVUb"
      },
      "source": [
        "### Question 4: \"We're considering expanding our storage facilities. How many total carats do we have in inventory? I need to know if our vaults can handle the weight.\"\n",
        "\n",
        "Think about what measurement would help answer this."
      ]
    },
    {
      "cell_type": "code",
      "execution_count": 7,
      "metadata": {
        "id": "kg7kh-YJdVUb",
        "colab": {
          "base_uri": "https://localhost:8080/"
        },
        "outputId": "beb8c1b5-5808-4025-e7e9-979800cff37a"
      },
      "outputs": [
        {
          "output_type": "stream",
          "name": "stdout",
          "text": [
            "=== Total Carats in Inventory ===\n",
            "Total carats: 8,007.12\n"
          ]
        }
      ],
      "source": [
        "# Your code here:\n",
        "total_carats = df[\"Carat Weight\"].sum()\n",
        "\n",
        "print(\"=== Total Carats in Inventory ===\")\n",
        "print(f\"Total carats: {total_carats:,.2f}\")"
      ]
    },
    {
      "cell_type": "markdown",
      "metadata": {
        "id": "Cbg5TBypdVUb"
      },
      "source": [
        "### Question 5: \"Our new marketing campaign claims we have 'the widest variety of cuts in the industry.' Can you verify this?\"\n",
        "\n",
        "The CEO wants to know about variety, not quantity."
      ]
    },
    {
      "cell_type": "code",
      "execution_count": 9,
      "metadata": {
        "id": "JMENOlFIdVUb",
        "colab": {
          "base_uri": "https://localhost:8080/"
        },
        "outputId": "56bc19a4-bcc8-436b-ed93-32aaf2254817"
      },
      "outputs": [
        {
          "output_type": "stream",
          "name": "stdout",
          "text": [
            "=== Variety of Diamond Cuts ===\n",
            "Number of unique cuts: 5\n",
            "Cuts available:\n",
            "- Very Good\n",
            "- Signature-Ideal\n",
            "- Ideal\n",
            "- Fair\n",
            "- Good\n"
          ]
        }
      ],
      "source": [
        "# Your code here:\n",
        "unique_cuts = df[\"Cut\"].unique()\n",
        "num_unique_cuts = len(unique_cuts)\n",
        "\n",
        "print(\"=== Variety of Diamond Cuts ===\")\n",
        "print(f\"Number of unique cuts: {num_unique_cuts}\")\n",
        "print(\"Cuts available:\")\n",
        "for cut in unique_cuts:\n",
        "    print(f\"- {cut}\")"
      ]
    },
    {
      "cell_type": "markdown",
      "metadata": {
        "id": "aWBxkeg9dVUb"
      },
      "source": [
        "### Question 6: \"I'm meeting with our insurance company. They need to know our price exposure - what's our most and least valuable diamond?\""
      ]
    },
    {
      "cell_type": "code",
      "execution_count": 10,
      "metadata": {
        "id": "SDP0jOIvdVUc",
        "colab": {
          "base_uri": "https://localhost:8080/"
        },
        "outputId": "984eff8d-a51a-4f36-9398-aed1ed79e0ba"
      },
      "outputs": [
        {
          "output_type": "stream",
          "name": "stdout",
          "text": [
            "=== Price Exposure ===\n",
            "Most valuable diamond:\n",
            "shape: (1, 8)\n",
            "┌──────────────┬───────┬───────┬─────────┬────────┬──────────┬────────┬────────┐\n",
            "│ Carat Weight ┆ Cut   ┆ Color ┆ Clarity ┆ Polish ┆ Symmetry ┆ Report ┆ Price  │\n",
            "│ ---          ┆ ---   ┆ ---   ┆ ---     ┆ ---    ┆ ---      ┆ ---    ┆ ---    │\n",
            "│ f64          ┆ str   ┆ str   ┆ str     ┆ str    ┆ str      ┆ str    ┆ i64    │\n",
            "╞══════════════╪═══════╪═══════╪═════════╪════════╪══════════╪════════╪════════╡\n",
            "│ 2.79         ┆ Ideal ┆ D     ┆ IF      ┆ EX     ┆ EX       ┆ GIA    ┆ 101561 │\n",
            "└──────────────┴───────┴───────┴─────────┴────────┴──────────┴────────┴────────┘\n",
            "\n",
            "Least valuable diamond:\n",
            "shape: (1, 8)\n",
            "┌──────────────┬──────┬───────┬─────────┬────────┬──────────┬────────┬───────┐\n",
            "│ Carat Weight ┆ Cut  ┆ Color ┆ Clarity ┆ Polish ┆ Symmetry ┆ Report ┆ Price │\n",
            "│ ---          ┆ ---  ┆ ---   ┆ ---     ┆ ---    ┆ ---      ┆ ---    ┆ ---   │\n",
            "│ f64          ┆ str  ┆ str   ┆ str     ┆ str    ┆ str      ┆ str    ┆ i64   │\n",
            "╞══════════════╪══════╪═══════╪═════════╪════════╪══════════╪════════╪═══════╡\n",
            "│ 0.77         ┆ Good ┆ I     ┆ VS1     ┆ VG     ┆ G        ┆ AGSL   ┆ 2184  │\n",
            "└──────────────┴──────┴───────┴─────────┴────────┴──────────┴────────┴───────┘\n"
          ]
        }
      ],
      "source": [
        "# Your code here:\n",
        "# Most valuable diamond (highest price)\n",
        "most_valuable = df.sort(\"Price\", descending=True).head(1)\n",
        "\n",
        "# Least valuable diamond (lowest price)\n",
        "least_valuable = df.sort(\"Price\", descending=False).head(1)\n",
        "\n",
        "print(\"=== Price Exposure ===\")\n",
        "print(\"Most valuable diamond:\")\n",
        "print(most_valuable)\n",
        "\n",
        "print(\"\\nLeast valuable diamond:\")\n",
        "print(least_valuable)\n"
      ]
    },
    {
      "cell_type": "markdown",
      "metadata": {
        "id": "Ei6y5I_gdVUc"
      },
      "source": [
        "### Question 7: \"Which color grades should we focus on in our premium line? I need typical prices across our color spectrum.\"\n",
        "\n",
        "The CEO wants to understand pricing patterns."
      ]
    },
    {
      "cell_type": "code",
      "execution_count": 11,
      "metadata": {
        "id": "L-zVnM98dVUc",
        "colab": {
          "base_uri": "https://localhost:8080/"
        },
        "outputId": "cb7660b0-d700-42c1-d742-86e00e2461c0"
      },
      "outputs": [
        {
          "output_type": "stream",
          "name": "stdout",
          "text": [
            "=== Average Price by Color ===\n",
            "shape: (6, 2)\n",
            "┌───────┬───────────────┐\n",
            "│ Color ┆ Average Price │\n",
            "│ ---   ┆ ---           │\n",
            "│ str   ┆ f64           │\n",
            "╞═══════╪═══════════════╡\n",
            "│ D     ┆ 15255.783661  │\n",
            "│ F     ┆ 12712.241856  │\n",
            "│ G     ┆ 12520.050633  │\n",
            "│ E     ┆ 11539.190231  │\n",
            "│ H     ┆ 10487.347544  │\n",
            "│ I     ┆ 8989.636364   │\n",
            "└───────┴───────────────┘\n"
          ]
        }
      ],
      "source": [
        "# Your code here:\n",
        "avg_price_by_color = (\n",
        "    df.group_by(\"Color\")\n",
        "      .agg(pl.col(\"Price\").mean().alias(\"Average Price\"))\n",
        "      .sort(\"Average Price\", descending=True)\n",
        ")\n",
        "\n",
        "print(\"=== Average Price by Color ===\")\n",
        "print(avg_price_by_color)"
      ]
    },
    {
      "cell_type": "markdown",
      "metadata": {
        "id": "_IRi7k0QdVUc"
      },
      "source": [
        "**Reflection:** After analyzing by color, how has your view of the data changed? What does each row in your result represent now?"
      ]
    },
    {
      "cell_type": "markdown",
      "metadata": {
        "id": "ZxpoYSy5dVUc"
      },
      "source": [
        "**Your answer:** New grain ="
      ]
    },
    {
      "cell_type": "markdown",
      "source": [
        "New grain = Each row now represents a color grade category, showing the average price of diamonds within that grade, rather than individual diamonds."
      ],
      "metadata": {
        "id": "gLw4uQcvex4c"
      }
    },
    {
      "cell_type": "markdown",
      "metadata": {
        "id": "NLg8T4yGdVUc"
      },
      "source": [
        "## Section 3: Advanced Strategic Analysis (10 minutes)\n",
        "\n",
        "The CEO leans forward: \"These next questions will shape our strategy for next year.\""
      ]
    },
    {
      "cell_type": "markdown",
      "metadata": {
        "id": "h-tlLCK9dVUc"
      },
      "source": [
        "### Question 8: \"We're thinking of specializing in certain clarity grades. For our investor deck, I need a complete breakdown showing: how many diamonds we have in each clarity grade, their typical price, and the total carats we're holding for each grade.\""
      ]
    },
    {
      "cell_type": "code",
      "execution_count": 12,
      "metadata": {
        "id": "-AI67LqBdVUc",
        "colab": {
          "base_uri": "https://localhost:8080/"
        },
        "outputId": "38d8bc91-f971-4cc1-fed4-e466119105e2"
      },
      "outputs": [
        {
          "output_type": "stream",
          "name": "stdout",
          "text": [
            "=== Clarity Grades Breakdown ===\n",
            "shape: (7, 4)\n",
            "┌─────────┬───────────────┬───────────────┬──────────────┐\n",
            "│ Clarity ┆ Diamond Count ┆ Average Price ┆ Total Carats │\n",
            "│ ---     ┆ ---           ┆ ---           ┆ ---          │\n",
            "│ str     ┆ u32           ┆ f64           ┆ f64          │\n",
            "╞═════════╪═══════════════╪═══════════════╪══════════════╡\n",
            "│ FL      ┆ 4             ┆ 63776.0       ┆ 7.87         │\n",
            "│ IF      ┆ 219           ┆ 22105.844749  ┆ 316.0        │\n",
            "│ VVS1    ┆ 285           ┆ 16845.680702  ┆ 389.43       │\n",
            "│ VVS2    ┆ 666           ┆ 14142.177177  ┆ 876.58       │\n",
            "│ VS1     ┆ 1192          ┆ 13694.113255  ┆ 1682.74      │\n",
            "│ VS2     ┆ 1575          ┆ 11809.053333  ┆ 2170.81      │\n",
            "│ SI1     ┆ 2059          ┆ 8018.864012   ┆ 2563.69      │\n",
            "└─────────┴───────────────┴───────────────┴──────────────┘\n"
          ]
        },
        {
          "output_type": "stream",
          "name": "stderr",
          "text": [
            "/tmp/ipython-input-3239479024.py:5: DeprecationWarning: `pl.count()` is deprecated. Please use `pl.len()` instead.\n",
            "  pl.count().alias(\"Diamond Count\"),\n"
          ]
        }
      ],
      "source": [
        "# Your code here:\n",
        "clarity_breakdown = (\n",
        "    df.group_by(\"Clarity\")\n",
        "      .agg([\n",
        "          pl.count().alias(\"Diamond Count\"),\n",
        "          pl.col(\"Price\").mean().alias(\"Average Price\"),\n",
        "          pl.col(\"Carat Weight\").sum().alias(\"Total Carats\")\n",
        "      ])\n",
        "      .sort(\"Average Price\", descending=True)\n",
        ")\n",
        "\n",
        "print(\"=== Clarity Grades Breakdown ===\")\n",
        "print(clarity_breakdown)"
      ]
    },
    {
      "cell_type": "markdown",
      "metadata": {
        "id": "Uwy-lZzIdVUc"
      },
      "source": [
        "### Question 9: \"My luxury competitor claims they have the best prices for every cut-color combination. Show me our pricing structure across these combinations - I want to see where we're competitive.\""
      ]
    },
    {
      "cell_type": "code",
      "execution_count": 13,
      "metadata": {
        "id": "6TgunAjudVUc",
        "colab": {
          "base_uri": "https://localhost:8080/"
        },
        "outputId": "e2d2dee5-aa37-4fdf-8995-f14f0a288f6a"
      },
      "outputs": [
        {
          "output_type": "stream",
          "name": "stdout",
          "text": [
            "=== Pricing by Cut-Color Combination ===\n",
            "shape: (30, 3)\n",
            "┌───────────┬───────┬───────────────┐\n",
            "│ Cut       ┆ Color ┆ Average Price │\n",
            "│ ---       ┆ ---   ┆ ---           │\n",
            "│ str       ┆ str   ┆ f64           │\n",
            "╞═══════════╪═══════╪═══════════════╡\n",
            "│ Fair      ┆ D     ┆ 6058.25       │\n",
            "│ Fair      ┆ E     ┆ 5370.625      │\n",
            "│ Fair      ┆ F     ┆ 6063.625      │\n",
            "│ Fair      ┆ G     ┆ 7345.52381    │\n",
            "│ Fair      ┆ H     ┆ 5908.5        │\n",
            "│ …         ┆ …     ┆ …             │\n",
            "│ Very Good ┆ E     ┆ 12101.910217  │\n",
            "│ Very Good ┆ F     ┆ 12413.905495  │\n",
            "│ Very Good ┆ G     ┆ 12354.013841  │\n",
            "│ Very Good ┆ H     ┆ 10056.106132  │\n",
            "│ Very Good ┆ I     ┆ 8930.031332   │\n",
            "└───────────┴───────┴───────────────┘\n"
          ]
        }
      ],
      "source": [
        "# Your code here:\n",
        "cut_color_pricing = (\n",
        "    df.group_by([\"Cut\", \"Color\"])\n",
        "      .agg(pl.col(\"Price\").mean().alias(\"Average Price\"))\n",
        "      .sort([\"Cut\", \"Color\"])\n",
        ")\n",
        "\n",
        "print(\"=== Pricing by Cut-Color Combination ===\")\n",
        "print(cut_color_pricing)"
      ]
    },
    {
      "cell_type": "markdown",
      "metadata": {
        "id": "-UwQg2bCdVUc"
      },
      "source": [
        "**Reflection:** How specific is your analysis now? What level of detail does each row represent?"
      ]
    },
    {
      "cell_type": "markdown",
      "metadata": {
        "id": "lJjW1CtOdVUc"
      },
      "source": [
        "**Your answer:** New grain ="
      ]
    },
    {
      "cell_type": "markdown",
      "source": [
        "New grain = Each row now represents a unique cut–color combination, showing the typical (average) price for that pairing rather than individual diamonds."
      ],
      "metadata": {
        "id": "1KEO83eQe-PU"
      }
    },
    {
      "cell_type": "markdown",
      "metadata": {
        "id": "2YPzeW2ydVUc"
      },
      "source": [
        "### Question 10: URGENT - \"Our biggest client is interested in purchasing entire inventory segments. They asked: 'Which color-cut combinations represent your highest total inventory value?' Show me the top 5 most valuable inventory segments by total worth, and include how many diamonds are in each segment.\"\n",
        "\n",
        "This is critical for tomorrow's negotiation."
      ]
    },
    {
      "cell_type": "code",
      "execution_count": 15,
      "metadata": {
        "id": "0aDQyWPOdVUc",
        "colab": {
          "base_uri": "https://localhost:8080/"
        },
        "outputId": "233b8255-0b57-40b1-b967-5573dda50e44"
      },
      "outputs": [
        {
          "output_type": "stream",
          "name": "stdout",
          "text": [
            "=== Top 5 Most Valuable Inventory Segments ===\n",
            "shape: (5, 4)\n",
            "┌───────────┬───────┬───────────────┬─────────────┐\n",
            "│ Cut       ┆ Color ┆ Diamond Count ┆ Total Value │\n",
            "│ ---       ┆ ---   ┆ ---           ┆ ---         │\n",
            "│ str       ┆ str   ┆ u32           ┆ i64         │\n",
            "╞═══════════╪═══════╪═══════════════╪═════════════╡\n",
            "│ Ideal     ┆ G     ┆ 690           ┆ 9363514     │\n",
            "│ Very Good ┆ G     ┆ 578           ┆ 7140620     │\n",
            "│ Very Good ┆ F     ┆ 455           ┆ 5648327     │\n",
            "│ Ideal     ┆ F     ┆ 363           ┆ 5346782     │\n",
            "│ Ideal     ┆ H     ┆ 458           ┆ 5279687     │\n",
            "└───────────┴───────┴───────────────┴─────────────┘\n"
          ]
        },
        {
          "output_type": "stream",
          "name": "stderr",
          "text": [
            "/tmp/ipython-input-1085118257.py:5: DeprecationWarning: `pl.count()` is deprecated. Please use `pl.len()` instead.\n",
            "  pl.count().alias(\"Diamond Count\"),\n"
          ]
        }
      ],
      "source": [
        "# Your code here:\n",
        "top_segments = (\n",
        "    df.group_by([\"Cut\", \"Color\"])\n",
        "      .agg([\n",
        "          pl.count().alias(\"Diamond Count\"),\n",
        "          pl.col(\"Price\").sum().alias(\"Total Value\")\n",
        "      ])\n",
        "      .sort(\"Total Value\", descending=True)\n",
        "      .head(5)\n",
        ")\n",
        "\n",
        "print(\"=== Top 5 Most Valuable Inventory Segments ===\")\n",
        "print(top_segments)\n"
      ]
    },
    {
      "cell_type": "markdown",
      "metadata": {
        "id": "dSqHuE-8dVUc"
      },
      "source": [
        "## Debrief\n",
        "\n",
        "Congratulations! You've just completed your first day as the diamond company's data analyst.\n",
        "\n",
        "Remember:\n",
        "- CEOs speak in business language, not technical terms\n",
        "- Always understand what each row represents before analyzing\n",
        "- Business questions contain clues about which operations to use"
      ]
    }
  ],
  "metadata": {
    "kernelspec": {
      "display_name": "Python 3",
      "language": "python",
      "name": "python3"
    },
    "language_info": {
      "codemirror_mode": {
        "name": "ipython",
        "version": 3
      },
      "file_extension": ".py",
      "mimetype": "text/x-python",
      "name": "python",
      "nbconvert_exporter": "python",
      "pygments_lexer": "ipython3",
      "version": "3.12.0"
    },
    "colab": {
      "provenance": []
    }
  },
  "nbformat": 4,
  "nbformat_minor": 0
}